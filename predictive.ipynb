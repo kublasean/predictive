{
 "cells": [
  {
   "cell_type": "code",
   "execution_count": 1,
   "metadata": {
    "collapsed": true
   },
   "outputs": [],
   "source": [
    "import io\n",
    "import string\n",
    "import re\n",
    "import random\n",
    "from time import sleep"
   ]
  },
  {
   "cell_type": "code",
   "execution_count": 2,
   "metadata": {
    "collapsed": true
   },
   "outputs": [],
   "source": [
    "f = io.open(\"shakespeare_complete.txt\", mode=\"r\", encoding=\"utf-8\")\n",
    "contents = f.read()"
   ]
  },
  {
   "cell_type": "code",
   "execution_count": 3,
   "metadata": {},
   "outputs": [],
   "source": [
    "test = contents\n",
    "test = re.sub('\\n\\n+', ' NEWPARAGRAPH ', test)\n",
    "test = re.split(r'([!\"#$%&\\'()*+,-./:;<=>?@\\[\\\\\\]^_`{|}~])|(\\u2019)|[ \\t\\n\\r\\x0b\\x0c]|[0-9]+', test)\n",
    "test = [i for i in test if i]\n"
   ]
  },
  {
   "cell_type": "code",
   "execution_count": 6,
   "metadata": {
    "collapsed": true
   },
   "outputs": [],
   "source": [
    "def sample(probs):\n",
    "    s = random.random()\n",
    "    prev=0\n",
    "    a = 0\n",
    "    for p in probs:\n",
    "        if s > prev and s < p+prev:\n",
    "            return a\n",
    "        prev += p\n",
    "        a += 1\n",
    "    print(\"error: sample\")\n",
    "    return None"
   ]
  },
  {
   "cell_type": "code",
   "execution_count": 7,
   "metadata": {},
   "outputs": [],
   "source": [
    "def mm(order, data):\n",
    "    model = {}\n",
    "    for i in range(len(data)-order):\n",
    "        history = ' '.join(data[i:i+order])\n",
    "        event = data[i+order]\n",
    "        if history not in model:\n",
    "            model[history] = {}\n",
    "        if event not in model[history]:\n",
    "            model[history][event] = 0\n",
    "        model[history][event] += 1\n",
    "    \n",
    "    for history, events in model.items():\n",
    "        all_occurrences = 0.0\n",
    "        for occurrences in events.values():\n",
    "            all_occurrences += occurrences\n",
    "        for event, occurrences in events.items():\n",
    "            model[history][event] /= all_occurrences\n",
    "    return model\n",
    "        "
   ]
  },
  {
   "cell_type": "code",
   "execution_count": 8,
   "metadata": {},
   "outputs": [],
   "source": [
    "m1 = mm(1, test)\n",
    "m2 = mm(2, test)\n"
   ]
  },
  {
   "cell_type": "code",
   "execution_count": 13,
   "metadata": {},
   "outputs": [
    {
     "name": "stdout",
     "output_type": "stream",
     "text": [
      "839980\n"
     ]
    }
   ],
   "source": [
    "m3 = mm(3, test)\n",
    "print(len(m3))"
   ]
  },
  {
   "cell_type": "code",
   "execution_count": 10,
   "metadata": {},
   "outputs": [
    {
     "name": "stdout",
     "output_type": "stream",
     "text": [
      "When for so foul a fiend confin ' d thy faith Into a thousand thousand ! Exeunt \n",
      "\n",
      "SCENE IX . Belmont . PORTIA . Upon the pikes o ' clock I say ! CLOWN . Prithee , no ; by my fall and die But for the present wrath He hath abandon ’ d , but bastard Normans , but for the difference of a loving wife . Go together , as doth an inland man ; I come to thee . What satisfaction canst thou leave these rogues , I kiss your hand , and I remember the style . KING . Saint Dennis to Saint Peter ’ s death . \n",
      "\n",
      "ARCITE . If thou wouldst be horn mad . MARIA . He does me double wrong to Lady Lucy , farewell ; thou wert accus ' d Than is my unrest . \n",
      "\n",
      "ARCITE . Now I want it boots thee not . You were us ' d plumes ! AGUECHEEK . Here is a pretty mocking of the chamber ? CLEOPATRA . Think not I ; ' tis no jest That I shall show me an iron gate . DROMIO OF EPHESUS . Y ' have I need the priest The morn that ever bore arms . DUMAIN . Judas I am no maid , widow , and in that hour o ’ Sunday . \n",
      "\n",
      "ULYSSES . Is thy name ! Or , at thy hand , de nick , et de nails , I do know him : then , belike his Majesty hath no bottom , none , that know ' st thou it ? ISABELLA . Good . I tremble still with thee tonight . Let me deale coldly with you yesternight Out at mine intent By marrying her which I possess ' d into my chamber window ; sometime the philosopher . \n",
      "\n",
      "PRINCE . Thou hadst fire and dews of blood and life encounter so As winter meads when sun doth burn . \n",
      "\n",
      "Enter KING JOHN . We do not wonder at ; Whose worst was this ? See you well , they shall do that honour from thy brain Some horrible conceit . I ' ll kill him rather . I wish my best peece : last , Writ to your friend , Salerio ! \n",
      "\n",
      "Enter EGLAMOUR \n",
      "\n",
      "EGLAMOUR . Fear it not . SURREY . I pray God ’ s house and pluck away their souls . For shame ! And being men , I pray you to bed ? Where ’ s death ; And he may see how many hands your hearts will thereto ad My love is buried . SILVIA . What a plague in store for you . \n",
      "\n",
      ". COUNTREYMAN And Ile be hangd , though with the forehead of this princely presence To doom th ' palace , under the left . I rather would have much to yield to you ; But what is amiss ? Until I send "
     ]
    }
   ],
   "source": [
    "history = ['When']\n",
    "print(' '.join(history), end=' ')\n",
    "\n",
    "for i in range(500):\n",
    "    #first try order = 2\n",
    "    if ' '.join(history) in m2:\n",
    "        key = ' '.join(history)\n",
    "        events = list(m2[key].keys())\n",
    "        probs = list(m2[key].values())\n",
    "        word = events[sample(probs)]\n",
    "    else:\n",
    "        key = history[-1]\n",
    "        events = list(m1[key].keys())\n",
    "        probs = list(m1[key].values())\n",
    "        word = events[sample(probs)]\n",
    "    if word == \"NEWPARAGRAPH\":\n",
    "        print(\"\\n\\n\", end='')\n",
    "    else:\n",
    "        print(word, end=\" \")\n",
    "    history = [history[-1], word]\n",
    "    sleep(0.1)\n"
   ]
  }
 ],
 "metadata": {
  "kernelspec": {
   "display_name": "Python 3",
   "language": "python",
   "name": "python3"
  },
  "language_info": {
   "codemirror_mode": {
    "name": "ipython",
    "version": 3
   },
   "file_extension": ".py",
   "mimetype": "text/x-python",
   "name": "python",
   "nbconvert_exporter": "python",
   "pygments_lexer": "ipython3",
   "version": "3.6.2"
  }
 },
 "nbformat": 4,
 "nbformat_minor": 2
}
